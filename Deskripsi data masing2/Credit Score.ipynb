{
 "cells": [
  {
   "cell_type": "code",
   "execution_count": 75,
   "metadata": {},
   "outputs": [],
   "source": [
    "#dataframes\n",
    "import pandas as pd\n",
    "import numpy as np\n",
    "import random as rnd\n",
    "\n",
    "#viz\n",
    "import matplotlib.pyplot as plt\n",
    "import seaborn as sns\n",
    "%matplotlib inline\n",
    "\n",
    "#statistics\n",
    "from scipy import stats\n",
    "from scipy.stats import norm, skew\n",
    "\n",
    "#unsupervised learning\n",
    "from sklearn.cluster import KMeans\n",
    "from scipy.cluster.hierarchy import linkage, cut_tree, dendrogram\n",
    "\n",
    "#Preprocessing\n",
    "from sklearn.model_selection import train_test_split, cross_val_score\n",
    "from sklearn.preprocessing import StandardScaler, Imputer\n",
    "from imblearn.over_sampling import RandomOverSampler\n",
    "from sklearn.utils import resample, check_array\n",
    "\n",
    "#supervised learning\n",
    "from sklearn.linear_model import LogisticRegression\n",
    "from sklearn.tree import DecisionTreeClassifier\n",
    "from sklearn.metrics import confusion_matrix, classification_report, accuracy_score, roc_curve, auc, roc_auc_score\n",
    "from sklearn.ensemble import RandomForestClassifier, GradientBoostingClassifier, IsolationForest"
   ]
  },
  {
   "cell_type": "markdown",
   "metadata": {},
   "source": [
    "## Data Understanding"
   ]
  },
  {
   "cell_type": "code",
   "execution_count": 11,
   "metadata": {},
   "outputs": [
    {
     "name": "stdout",
     "output_type": "stream",
     "text": [
      "all_data size is : (17707, 22)\n"
     ]
    }
   ],
   "source": [
    "df_train = pd.read_csv('data_input/npl_train.csv', index_col=0)\n",
    "col = df_train.columns\n",
    "\n",
    "df_test = pd.read_csv('data_input/npl_test.csv', index_col=0)\n",
    "y_train = df_train['flag_kredit_macet'].values\n",
    "\n",
    "all_data = pd.concat((df_train, df_test)).reset_index(drop=True)\n",
    "all_data = all_data.reindex(columns=col)\n",
    "all_data.drop(['flag_kredit_macet'], axis=1, inplace=True)\n",
    "\n",
    "print(\"all_data size is : {}\".format(all_data.shape))"
   ]
  },
  {
   "cell_type": "code",
   "execution_count": 12,
   "metadata": {},
   "outputs": [],
   "source": [
    "pd.set_option('max_columns',None)\n",
    "pd.set_option('max_rows',None)\n",
    "pd.options.display.float_format = '{:,.3f}'.format"
   ]
  },
  {
   "cell_type": "markdown",
   "metadata": {},
   "source": [
    "# Bag3"
   ]
  },
  {
   "cell_type": "code",
   "execution_count": 100,
   "metadata": {},
   "outputs": [],
   "source": [
    "bag3 = df_train.iloc[:,15:]"
   ]
  },
  {
   "cell_type": "code",
   "execution_count": 101,
   "metadata": {},
   "outputs": [
    {
     "data": {
      "text/html": [
       "<div>\n",
       "<style scoped>\n",
       "    .dataframe tbody tr th:only-of-type {\n",
       "        vertical-align: middle;\n",
       "    }\n",
       "\n",
       "    .dataframe tbody tr th {\n",
       "        vertical-align: top;\n",
       "    }\n",
       "\n",
       "    .dataframe thead th {\n",
       "        text-align: right;\n",
       "    }\n",
       "</style>\n",
       "<table border=\"1\" class=\"dataframe\">\n",
       "  <thead>\n",
       "    <tr style=\"text-align: right;\">\n",
       "      <th></th>\n",
       "      <th>total_pemakaian</th>\n",
       "      <th>sisa_tagihan_per_jumlah_kartu</th>\n",
       "      <th>sisa_tagihan_per_limit</th>\n",
       "      <th>total_pemakaian_per_limit</th>\n",
       "      <th>pemakaian_3bln_per_limit</th>\n",
       "      <th>pemakaian_6bln_per_limit</th>\n",
       "      <th>utilisasi_3bulan</th>\n",
       "      <th>utilisasi_6bulan</th>\n",
       "    </tr>\n",
       "    <tr>\n",
       "      <th>X</th>\n",
       "      <th></th>\n",
       "      <th></th>\n",
       "      <th></th>\n",
       "      <th></th>\n",
       "      <th></th>\n",
       "      <th></th>\n",
       "      <th></th>\n",
       "      <th></th>\n",
       "    </tr>\n",
       "  </thead>\n",
       "  <tbody>\n",
       "    <tr>\n",
       "      <th>1</th>\n",
       "      <td>94.000</td>\n",
       "      <td>13,161.500</td>\n",
       "      <td>0.004</td>\n",
       "      <td>0.000</td>\n",
       "      <td>0.012</td>\n",
       "      <td>0.018</td>\n",
       "      <td>0.013</td>\n",
       "      <td>0.022</td>\n",
       "    </tr>\n",
       "    <tr>\n",
       "      <th>2</th>\n",
       "      <td>1,012.000</td>\n",
       "      <td>0.000</td>\n",
       "      <td>0.000</td>\n",
       "      <td>0.000</td>\n",
       "      <td>0.000</td>\n",
       "      <td>0.000</td>\n",
       "      <td>0.004</td>\n",
       "      <td>0.000</td>\n",
       "    </tr>\n",
       "    <tr>\n",
       "      <th>3</th>\n",
       "      <td>0.000</td>\n",
       "      <td>0.000</td>\n",
       "      <td>0.000</td>\n",
       "      <td>0.000</td>\n",
       "      <td>0.041</td>\n",
       "      <td>0.048</td>\n",
       "      <td>0.249</td>\n",
       "      <td>0.268</td>\n",
       "    </tr>\n",
       "    <tr>\n",
       "      <th>4</th>\n",
       "      <td>2,536,660.000</td>\n",
       "      <td>145,333.500</td>\n",
       "      <td>0.028</td>\n",
       "      <td>0.121</td>\n",
       "      <td>0.056</td>\n",
       "      <td>0.017</td>\n",
       "      <td>0.102</td>\n",
       "      <td>0.347</td>\n",
       "    </tr>\n",
       "    <tr>\n",
       "      <th>5</th>\n",
       "      <td>2,666,558.000</td>\n",
       "      <td>2,975,932.500</td>\n",
       "      <td>0.595</td>\n",
       "      <td>0.267</td>\n",
       "      <td>0.323</td>\n",
       "      <td>0.131</td>\n",
       "      <td>0.708</td>\n",
       "      <td>0.337</td>\n",
       "    </tr>\n",
       "  </tbody>\n",
       "</table>\n",
       "</div>"
      ],
      "text/plain": [
       "   total_pemakaian  sisa_tagihan_per_jumlah_kartu  sisa_tagihan_per_limit  \\\n",
       "X                                                                           \n",
       "1           94.000                     13,161.500                   0.004   \n",
       "2        1,012.000                          0.000                   0.000   \n",
       "3            0.000                          0.000                   0.000   \n",
       "4    2,536,660.000                    145,333.500                   0.028   \n",
       "5    2,666,558.000                  2,975,932.500                   0.595   \n",
       "\n",
       "   total_pemakaian_per_limit  pemakaian_3bln_per_limit  \\\n",
       "X                                                        \n",
       "1                      0.000                     0.012   \n",
       "2                      0.000                     0.000   \n",
       "3                      0.000                     0.041   \n",
       "4                      0.121                     0.056   \n",
       "5                      0.267                     0.323   \n",
       "\n",
       "   pemakaian_6bln_per_limit  utilisasi_3bulan  utilisasi_6bulan  \n",
       "X                                                                \n",
       "1                     0.018             0.013             0.022  \n",
       "2                     0.000             0.004             0.000  \n",
       "3                     0.048             0.249             0.268  \n",
       "4                     0.017             0.102             0.347  \n",
       "5                     0.131             0.708             0.337  "
      ]
     },
     "execution_count": 101,
     "metadata": {},
     "output_type": "execute_result"
    }
   ],
   "source": [
    "bag3.head()"
   ]
  },
  {
   "cell_type": "code",
   "execution_count": 102,
   "metadata": {},
   "outputs": [
    {
     "data": {
      "text/plain": [
       "total_pemakaian                  float64\n",
       "sisa_tagihan_per_jumlah_kartu    float64\n",
       "sisa_tagihan_per_limit           float64\n",
       "total_pemakaian_per_limit        float64\n",
       "pemakaian_3bln_per_limit         float64\n",
       "pemakaian_6bln_per_limit         float64\n",
       "utilisasi_3bulan                 float64\n",
       "utilisasi_6bulan                 float64\n",
       "dtype: object"
      ]
     },
     "execution_count": 102,
     "metadata": {},
     "output_type": "execute_result"
    }
   ],
   "source": [
    "bag3.dtypes"
   ]
  },
  {
   "cell_type": "code",
   "execution_count": 103,
   "metadata": {},
   "outputs": [
    {
     "data": {
      "text/html": [
       "<div>\n",
       "<style scoped>\n",
       "    .dataframe tbody tr th:only-of-type {\n",
       "        vertical-align: middle;\n",
       "    }\n",
       "\n",
       "    .dataframe tbody tr th {\n",
       "        vertical-align: top;\n",
       "    }\n",
       "\n",
       "    .dataframe thead th {\n",
       "        text-align: right;\n",
       "    }\n",
       "</style>\n",
       "<table border=\"1\" class=\"dataframe\">\n",
       "  <thead>\n",
       "    <tr style=\"text-align: right;\">\n",
       "      <th></th>\n",
       "      <th>total_pemakaian</th>\n",
       "      <th>sisa_tagihan_per_jumlah_kartu</th>\n",
       "      <th>sisa_tagihan_per_limit</th>\n",
       "      <th>total_pemakaian_per_limit</th>\n",
       "      <th>pemakaian_3bln_per_limit</th>\n",
       "      <th>pemakaian_6bln_per_limit</th>\n",
       "      <th>utilisasi_3bulan</th>\n",
       "      <th>utilisasi_6bulan</th>\n",
       "    </tr>\n",
       "  </thead>\n",
       "  <tbody>\n",
       "    <tr>\n",
       "      <th>count</th>\n",
       "      <td>15,493.000</td>\n",
       "      <td>15,493.000</td>\n",
       "      <td>15,493.000</td>\n",
       "      <td>15,493.000</td>\n",
       "      <td>15,493.000</td>\n",
       "      <td>15,493.000</td>\n",
       "      <td>15,493.000</td>\n",
       "      <td>15,493.000</td>\n",
       "    </tr>\n",
       "    <tr>\n",
       "      <th>mean</th>\n",
       "      <td>2,100,421.119</td>\n",
       "      <td>2,968,060.012</td>\n",
       "      <td>0.468</td>\n",
       "      <td>0.109</td>\n",
       "      <td>0.167</td>\n",
       "      <td>0.203</td>\n",
       "      <td>0.571</td>\n",
       "      <td>0.534</td>\n",
       "    </tr>\n",
       "    <tr>\n",
       "      <th>std</th>\n",
       "      <td>8,092,611.951</td>\n",
       "      <td>6,262,191.790</td>\n",
       "      <td>0.473</td>\n",
       "      <td>0.200</td>\n",
       "      <td>0.192</td>\n",
       "      <td>0.274</td>\n",
       "      <td>0.412</td>\n",
       "      <td>0.432</td>\n",
       "    </tr>\n",
       "    <tr>\n",
       "      <th>min</th>\n",
       "      <td>-15,667,200.000</td>\n",
       "      <td>0.000</td>\n",
       "      <td>0.000</td>\n",
       "      <td>-0.632</td>\n",
       "      <td>-0.126</td>\n",
       "      <td>-0.569</td>\n",
       "      <td>0.000</td>\n",
       "      <td>0.000</td>\n",
       "    </tr>\n",
       "    <tr>\n",
       "      <th>25%</th>\n",
       "      <td>0.000</td>\n",
       "      <td>0.000</td>\n",
       "      <td>0.000</td>\n",
       "      <td>0.000</td>\n",
       "      <td>0.035</td>\n",
       "      <td>0.033</td>\n",
       "      <td>0.189</td>\n",
       "      <td>0.155</td>\n",
       "    </tr>\n",
       "    <tr>\n",
       "      <th>50%</th>\n",
       "      <td>248,000.000</td>\n",
       "      <td>1,209,318.000</td>\n",
       "      <td>0.335</td>\n",
       "      <td>0.022</td>\n",
       "      <td>0.108</td>\n",
       "      <td>0.117</td>\n",
       "      <td>0.575</td>\n",
       "      <td>0.496</td>\n",
       "    </tr>\n",
       "    <tr>\n",
       "      <th>75%</th>\n",
       "      <td>1,512,235.000</td>\n",
       "      <td>3,088,477.000</td>\n",
       "      <td>0.930</td>\n",
       "      <td>0.128</td>\n",
       "      <td>0.239</td>\n",
       "      <td>0.285</td>\n",
       "      <td>0.917</td>\n",
       "      <td>0.863</td>\n",
       "    </tr>\n",
       "    <tr>\n",
       "      <th>max</th>\n",
       "      <td>314,000,000.000</td>\n",
       "      <td>148,000,000.000</td>\n",
       "      <td>7.240</td>\n",
       "      <td>4.600</td>\n",
       "      <td>3.490</td>\n",
       "      <td>8.110</td>\n",
       "      <td>8.126</td>\n",
       "      <td>9.730</td>\n",
       "    </tr>\n",
       "  </tbody>\n",
       "</table>\n",
       "</div>"
      ],
      "text/plain": [
       "       total_pemakaian  sisa_tagihan_per_jumlah_kartu  sisa_tagihan_per_limit  \\\n",
       "count       15,493.000                     15,493.000              15,493.000   \n",
       "mean     2,100,421.119                  2,968,060.012                   0.468   \n",
       "std      8,092,611.951                  6,262,191.790                   0.473   \n",
       "min    -15,667,200.000                          0.000                   0.000   \n",
       "25%              0.000                          0.000                   0.000   \n",
       "50%        248,000.000                  1,209,318.000                   0.335   \n",
       "75%      1,512,235.000                  3,088,477.000                   0.930   \n",
       "max    314,000,000.000                148,000,000.000                   7.240   \n",
       "\n",
       "       total_pemakaian_per_limit  pemakaian_3bln_per_limit  \\\n",
       "count                 15,493.000                15,493.000   \n",
       "mean                       0.109                     0.167   \n",
       "std                        0.200                     0.192   \n",
       "min                       -0.632                    -0.126   \n",
       "25%                        0.000                     0.035   \n",
       "50%                        0.022                     0.108   \n",
       "75%                        0.128                     0.239   \n",
       "max                        4.600                     3.490   \n",
       "\n",
       "       pemakaian_6bln_per_limit  utilisasi_3bulan  utilisasi_6bulan  \n",
       "count                15,493.000        15,493.000        15,493.000  \n",
       "mean                      0.203             0.571             0.534  \n",
       "std                       0.274             0.412             0.432  \n",
       "min                      -0.569             0.000             0.000  \n",
       "25%                       0.033             0.189             0.155  \n",
       "50%                       0.117             0.575             0.496  \n",
       "75%                       0.285             0.917             0.863  \n",
       "max                       8.110             8.126             9.730  "
      ]
     },
     "execution_count": 103,
     "metadata": {},
     "output_type": "execute_result"
    }
   ],
   "source": [
    "bag3.describe()"
   ]
  },
  {
   "cell_type": "code",
   "execution_count": 46,
   "metadata": {},
   "outputs": [
    {
     "data": {
      "image/png": "[encoded data removed]",
      "text/plain": [
       "<matplotlib.figure.Figure at 0x1dc230d0f60>"
      ]
     },
     "metadata": {},
     "output_type": "display_data"
    }
   ],
   "source": [
    "plt.figure(figsize=(15,10))\n",
    "plt.subplot(421)\n",
    "sns.boxplot(bag3.sisa_tagihan_per_jumlah_kartu)\n",
    "plt.subplot(422)\n",
    "sns.boxplot(bag3.sisa_tagihan_per_limit)\n",
    "plt.subplot(423)\n",
    "sns.boxplot(bag3.total_pemakaian_per_limit)\n",
    "plt.subplot(424)\n",
    "sns.boxplot(bag3.pemakaian_3bln_per_limit)\n",
    "plt.subplot(425)\n",
    "sns.boxplot(bag3.pemakaian_6bln_per_limit)\n",
    "plt.subplot(426)\n",
    "sns.boxplot(bag3.utilisasi_3bulan)\n",
    "plt.subplot(427)\n",
    "sns.boxplot(bag3.utilisasi_6bulan)\n",
    "\n",
    "plt.tight_layout()\n",
    "plt.show()"
   ]
  },
  {
   "cell_type": "code",
   "execution_count": 104,
   "metadata": {},
   "outputs": [
    {
     "data": {
      "text/plain": [
       "StandardScaler(copy=True, with_mean=True, with_std=True)"
      ]
     },
     "execution_count": 104,
     "metadata": {},
     "output_type": "execute_result"
    }
   ],
   "source": [
    "scal = StandardScaler()\n",
    "scal.fit(bag3)"
   ]
  },
  {
   "cell_type": "code",
   "execution_count": 105,
   "metadata": {},
   "outputs": [],
   "source": [
    "data = scal.transform(bag3)\n",
    "col = bag3.columns\n",
    "idx = bag3.index"
   ]
  },
  {
   "cell_type": "code",
   "execution_count": 106,
   "metadata": {},
   "outputs": [
    {
     "data": {
      "text/html": [
       "<div>\n",
       "<style scoped>\n",
       "    .dataframe tbody tr th:only-of-type {\n",
       "        vertical-align: middle;\n",
       "    }\n",
       "\n",
       "    .dataframe tbody tr th {\n",
       "        vertical-align: top;\n",
       "    }\n",
       "\n",
       "    .dataframe thead th {\n",
       "        text-align: right;\n",
       "    }\n",
       "</style>\n",
       "<table border=\"1\" class=\"dataframe\">\n",
       "  <thead>\n",
       "    <tr style=\"text-align: right;\">\n",
       "      <th></th>\n",
       "      <th>total_pemakaian</th>\n",
       "      <th>sisa_tagihan_per_jumlah_kartu</th>\n",
       "      <th>sisa_tagihan_per_limit</th>\n",
       "      <th>total_pemakaian_per_limit</th>\n",
       "      <th>pemakaian_3bln_per_limit</th>\n",
       "      <th>pemakaian_6bln_per_limit</th>\n",
       "      <th>utilisasi_3bulan</th>\n",
       "      <th>utilisasi_6bulan</th>\n",
       "    </tr>\n",
       "    <tr>\n",
       "      <th>X</th>\n",
       "      <th></th>\n",
       "      <th></th>\n",
       "      <th></th>\n",
       "      <th></th>\n",
       "      <th></th>\n",
       "      <th></th>\n",
       "      <th></th>\n",
       "      <th></th>\n",
       "    </tr>\n",
       "  </thead>\n",
       "  <tbody>\n",
       "    <tr>\n",
       "      <th>1</th>\n",
       "      <td>-0.260</td>\n",
       "      <td>-0.472</td>\n",
       "      <td>-0.982</td>\n",
       "      <td>-0.546</td>\n",
       "      <td>-0.810</td>\n",
       "      <td>-0.674</td>\n",
       "      <td>-1.354</td>\n",
       "      <td>-1.184</td>\n",
       "    </tr>\n",
       "    <tr>\n",
       "      <th>2</th>\n",
       "      <td>-0.259</td>\n",
       "      <td>-0.474</td>\n",
       "      <td>-0.990</td>\n",
       "      <td>-0.546</td>\n",
       "      <td>-0.871</td>\n",
       "      <td>-0.739</td>\n",
       "      <td>-1.376</td>\n",
       "      <td>-1.234</td>\n",
       "    </tr>\n",
       "    <tr>\n",
       "      <th>3</th>\n",
       "      <td>-0.260</td>\n",
       "      <td>-0.474</td>\n",
       "      <td>-0.990</td>\n",
       "      <td>-0.546</td>\n",
       "      <td>-0.660</td>\n",
       "      <td>-0.565</td>\n",
       "      <td>-0.781</td>\n",
       "      <td>-0.615</td>\n",
       "    </tr>\n",
       "    <tr>\n",
       "      <th>4</th>\n",
       "      <td>0.054</td>\n",
       "      <td>-0.451</td>\n",
       "      <td>-0.931</td>\n",
       "      <td>0.057</td>\n",
       "      <td>-0.580</td>\n",
       "      <td>-0.677</td>\n",
       "      <td>-1.139</td>\n",
       "      <td>-0.433</td>\n",
       "    </tr>\n",
       "    <tr>\n",
       "      <th>5</th>\n",
       "      <td>0.070</td>\n",
       "      <td>0.001</td>\n",
       "      <td>0.268</td>\n",
       "      <td>0.786</td>\n",
       "      <td>0.809</td>\n",
       "      <td>-0.260</td>\n",
       "      <td>0.332</td>\n",
       "      <td>-0.456</td>\n",
       "    </tr>\n",
       "  </tbody>\n",
       "</table>\n",
       "</div>"
      ],
      "text/plain": [
       "   total_pemakaian  sisa_tagihan_per_jumlah_kartu  sisa_tagihan_per_limit  \\\n",
       "X                                                                           \n",
       "1           -0.260                         -0.472                  -0.982   \n",
       "2           -0.259                         -0.474                  -0.990   \n",
       "3           -0.260                         -0.474                  -0.990   \n",
       "4            0.054                         -0.451                  -0.931   \n",
       "5            0.070                          0.001                   0.268   \n",
       "\n",
       "   total_pemakaian_per_limit  pemakaian_3bln_per_limit  \\\n",
       "X                                                        \n",
       "1                     -0.546                    -0.810   \n",
       "2                     -0.546                    -0.871   \n",
       "3                     -0.546                    -0.660   \n",
       "4                      0.057                    -0.580   \n",
       "5                      0.786                     0.809   \n",
       "\n",
       "   pemakaian_6bln_per_limit  utilisasi_3bulan  utilisasi_6bulan  \n",
       "X                                                                \n",
       "1                    -0.674            -1.354            -1.184  \n",
       "2                    -0.739            -1.376            -1.234  \n",
       "3                    -0.565            -0.781            -0.615  \n",
       "4                    -0.677            -1.139            -0.433  \n",
       "5                    -0.260             0.332            -0.456  "
      ]
     },
     "execution_count": 106,
     "metadata": {},
     "output_type": "execute_result"
    }
   ],
   "source": [
    "bag3 =  pd.DataFrame(data=data, index=idx, columns=col)\n",
    "bag3.head()"
   ]
  },
  {
   "cell_type": "code",
   "execution_count": 109,
   "metadata": {},
   "outputs": [
    {
     "data": {
      "text/plain": [
       "<matplotlib.axes._subplots.AxesSubplot at 0x1dc2c0221d0>"
      ]
     },
     "execution_count": 109,
     "metadata": {},
     "output_type": "execute_result"
    },
    {
     "data": {
      "image/png": "[encoded data removed]",
      "text/plain": [
       "<matplotlib.figure.Figure at 0x1dc2bf342b0>"
      ]
     },
     "metadata": {},
     "output_type": "display_data"
    }
   ],
   "source": [
    "cor = bag3.corr()\n",
    "sns.heatmap(cor, vmin=-1, vmax=1)"
   ]
  },
  {
   "cell_type": "code",
   "execution_count": 50,
   "metadata": {},
   "outputs": [
    {
     "data": {
      "image/png": "[encoded data removed]",
      "text/plain": [
       "<matplotlib.figure.Figure at 0x1dc23539da0>"
      ]
     },
     "metadata": {},
     "output_type": "display_data"
    }
   ],
   "source": [
    "plt.figure(figsize=(15,10))\n",
    "plt.subplot(421)\n",
    "sns.boxplot(bag3.sisa_tagihan_per_jumlah_kartu)\n",
    "plt.subplot(422)\n",
    "sns.boxplot(bag3.sisa_tagihan_per_limit)\n",
    "plt.subplot(423)\n",
    "sns.boxplot(bag3.total_pemakaian_per_limit)\n",
    "plt.subplot(424)\n",
    "sns.boxplot(bag3.pemakaian_3bln_per_limit)\n",
    "plt.subplot(425)\n",
    "sns.boxplot(bag3.pemakaian_6bln_per_limit)\n",
    "plt.subplot(426)\n",
    "sns.boxplot(bag3.utilisasi_3bulan)\n",
    "plt.subplot(427)\n",
    "sns.boxplot(bag3.utilisasi_6bulan)\n",
    "\n",
    "plt.tight_layout()\n",
    "plt.show()"
   ]
  },
  {
   "cell_type": "code",
   "execution_count": 72,
   "metadata": {},
   "outputs": [
    {
     "data": {
      "text/plain": [
       "KMeans(algorithm='auto', copy_x=True, init='k-means++', max_iter=40,\n",
       "    n_clusters=2, n_init=10, n_jobs=1, precompute_distances='auto',\n",
       "    random_state=None, tol=0.0001, verbose=0)"
      ]
     },
     "execution_count": 72,
     "metadata": {},
     "output_type": "execute_result"
    }
   ],
   "source": [
    "kmn = KMeans(n_clusters=2,max_iter=40)\n",
    "kmn.fit(bag3)"
   ]
  },
  {
   "cell_type": "code",
   "execution_count": 73,
   "metadata": {},
   "outputs": [],
   "source": [
    "bag3['klompok'] = kmn.predict(bag3)\n",
    "bag3['score'] = df_train['flag_kredit_macet']"
   ]
  },
  {
   "cell_type": "code",
   "execution_count": 94,
   "metadata": {},
   "outputs": [],
   "source": [
    "cacat = bag3.loc[bag3['score']==0,:]"
   ]
  },
  {
   "cell_type": "code",
   "execution_count": 95,
   "metadata": {},
   "outputs": [
    {
     "data": {
      "text/plain": [
       "IsolationForest(bootstrap=False, contamination=0.1, max_features=1.0,\n",
       "        max_samples='auto', n_estimators=100, n_jobs=1, random_state=None,\n",
       "        verbose=0)"
      ]
     },
     "execution_count": 95,
     "metadata": {},
     "output_type": "execute_result"
    }
   ],
   "source": [
    "ifo = IsolationForest()\n",
    "ifo.fit(cacat)"
   ]
  },
  {
   "cell_type": "code",
   "execution_count": 96,
   "metadata": {},
   "outputs": [],
   "source": [
    "bag3['iso'] = ifo.predict(bag3)\n",
    "bag3.loc[bag3['iso']==1,'iso']=0\n",
    "bag3.loc[bag3['iso']==-1,'iso']=1"
   ]
  },
  {
   "cell_type": "code",
   "execution_count": 97,
   "metadata": {},
   "outputs": [
    {
     "data": {
      "text/plain": [
       "array([[12720,  1414],\n",
       "       [ 1228,   131]], dtype=int64)"
      ]
     },
     "execution_count": 97,
     "metadata": {},
     "output_type": "execute_result"
    }
   ],
   "source": [
    "confusion_matrix(bag3['score'],bag3['iso'])"
   ]
  },
  {
   "cell_type": "code",
   "execution_count": 84,
   "metadata": {},
   "outputs": [
    {
     "data": {
      "text/plain": [
       " 1    10673\n",
       "-1     4820\n",
       "Name: iso, dtype: int64"
      ]
     },
     "execution_count": 84,
     "metadata": {},
     "output_type": "execute_result"
    }
   ],
   "source": [
    "bag3['iso'].value_counts()"
   ]
  },
  {
   "cell_type": "code",
   "execution_count": 37,
   "metadata": {},
   "outputs": [],
   "source": [
    "#edit datatype\n",
    "all_data['outstanding'] = all_data['outstanding'].astype(float) #agar mudah dalam perhitungan\n",
    "all_data['jumlah_kartu'] = all_data['jumlah_kartu'].astype(object) #tipe data bukan numeric melainkan ordinal/kategorik\n",
    "all_data['skor_delikuensi'] = all_data['skor_delikuensi'].astype(object) #tipe data bukan numeric/rasio melainkan ordinal"
   ]
  },
  {
   "cell_type": "code",
   "execution_count": 38,
   "metadata": {},
   "outputs": [
    {
     "name": "stdout",
     "output_type": "stream",
     "text": [
      "#baris df_train : 15493 #kolom df_train : 23\n",
      "#baris df_test : 2214 #kolom df_test : 22\n"
     ]
    }
   ],
   "source": [
    "r_train, c_train = df_train.shape\n",
    "r_test, c_test = df_test.shape\n",
    "\n",
    "print('#baris df_train :', r_train, '#kolom df_train :', c_train)\n",
    "print('#baris df_test :', r_test, '#kolom df_test :', c_test)"
   ]
  },
  {
   "cell_type": "code",
   "execution_count": 40,
   "metadata": {},
   "outputs": [
    {
     "name": "stdout",
     "output_type": "stream",
     "text": [
      "jumlah_kartu                             0\n",
      "jumlah_tahun_sejak_pembukaan_kredit      0\n",
      "kode_cabang                            114\n",
      "limit_kredit                             0\n",
      "outstanding                              0\n",
      "pemakaian_3bln_per_limit                 0\n",
      "pemakaian_6bln_per_limit                 0\n",
      "persentasi_overlimit                     0\n",
      "rasio_pembayaran                         0\n",
      "rasio_pembayaran_3bulan                  0\n",
      "rasio_pembayaran_6bulan                  0\n",
      "sisa_tagihan_per_jumlah_kartu            0\n",
      "sisa_tagihan_per_limit                   0\n",
      "sisa_tagihan_tidak_terbayar              0\n",
      "skor_delikuensi                          0\n",
      "tagihan                                  0\n",
      "total_pemakaian                          0\n",
      "total_pemakaian_per_limit                0\n",
      "total_pemakaian_retail                   0\n",
      "total_pemakaian_tunai                    0\n",
      "utilisasi_3bulan                         0\n",
      "utilisasi_6bulan                         0\n",
      "dtype: int64 \n",
      "\n"
     ]
    }
   ],
   "source": [
    "print(all_data.isnull().sum(), '\\n')\n",
    "# print(df_train.isnull().sum())\n",
    "# print(df_test.isnull().sum())"
   ]
  },
  {
   "cell_type": "code",
   "execution_count": null,
   "metadata": {},
   "outputs": [],
   "source": [
    "all_data.describe()"
   ]
  },
  {
   "cell_type": "code",
   "execution_count": 98,
   "metadata": {},
   "outputs": [
    {
     "name": "stdout",
     "output_type": "stream",
     "text": [
      "\n",
      "Skew in numerical features: \n",
      "\n"
     ]
    },
    {
     "data": {
      "text/html": [
       "<div>\n",
       "<style scoped>\n",
       "    .dataframe tbody tr th:only-of-type {\n",
       "        vertical-align: middle;\n",
       "    }\n",
       "\n",
       "    .dataframe tbody tr th {\n",
       "        vertical-align: top;\n",
       "    }\n",
       "\n",
       "    .dataframe thead th {\n",
       "        text-align: right;\n",
       "    }\n",
       "</style>\n",
       "<table border=\"1\" class=\"dataframe\">\n",
       "  <thead>\n",
       "    <tr style=\"text-align: right;\">\n",
       "      <th></th>\n",
       "      <th>Skew</th>\n",
       "    </tr>\n",
       "  </thead>\n",
       "  <tbody>\n",
       "    <tr>\n",
       "      <th>rasio_pembayaran</th>\n",
       "      <td>52.784</td>\n",
       "    </tr>\n",
       "    <tr>\n",
       "      <th>skor_delikuensi</th>\n",
       "      <td>32.739</td>\n",
       "    </tr>\n",
       "    <tr>\n",
       "      <th>total_pemakaian_tunai</th>\n",
       "      <td>25.772</td>\n",
       "    </tr>\n",
       "    <tr>\n",
       "      <th>total_pemakaian</th>\n",
       "      <td>17.790</td>\n",
       "    </tr>\n",
       "    <tr>\n",
       "      <th>total_pemakaian_retail</th>\n",
       "      <td>16.744</td>\n",
       "    </tr>\n",
       "  </tbody>\n",
       "</table>\n",
       "</div>"
      ],
      "text/plain": [
       "                         Skew\n",
       "rasio_pembayaran       52.784\n",
       "skor_delikuensi        32.739\n",
       "total_pemakaian_tunai  25.772\n",
       "total_pemakaian        17.790\n",
       "total_pemakaian_retail 16.744"
      ]
     },
     "execution_count": 98,
     "metadata": {},
     "output_type": "execute_result"
    }
   ],
   "source": [
    "numeric_feats = all_data.dtypes[all_data.dtypes != \"object\"].index\n",
    "\n",
    "# Check the skew of all numerical features\n",
    "skewed_feats = all_data[numeric_feats].apply(lambda x: skew(x.dropna())).sort_values(ascending=False)\n",
    "print(\"\\nSkew in numerical features: \\n\")\n",
    "skewness = pd.DataFrame({'Skew' :skewed_feats})\n",
    "skewness.head()"
   ]
  },
  {
   "cell_type": "code",
   "execution_count": null,
   "metadata": {},
   "outputs": [],
   "source": [
    "all_data.describe(include=['O'])"
   ]
  },
  {
   "cell_type": "code",
   "execution_count": null,
   "metadata": {},
   "outputs": [],
   "source": [
    "#check imbalanced target\n",
    "df_train['flag_kredit_macet'].value_counts(normalize=True)"
   ]
  },
  {
   "cell_type": "markdown",
   "metadata": {},
   "source": [
    "## EDA Viz"
   ]
  },
  {
   "cell_type": "code",
   "execution_count": null,
   "metadata": {},
   "outputs": [],
   "source": [
    "plt.figure(figsize=(15,5))\n",
    "plt.subplot(2,3,1)\n",
    "sns.distplot((all_data['outstanding']))\n",
    "\n",
    "plt.subplot(2,3,2)\n",
    "sns.distplot((all_data['limit_kredit']))\n",
    "\n",
    "plt.subplot(2,3,3)\n",
    "sns.distplot((all_data['tagihan']))\n",
    "\n",
    "plt.subplot(2,3,4)\n",
    "sns.distplot((all_data['total_pemakaian_retail']))\n",
    "\n",
    "plt.subplot(2,3,5)\n",
    "sns.distplot((all_data['sisa_tagihan_tidak_terbayar']))\n",
    "\n",
    "plt.subplot(2,3,6)\n",
    "sns.distplot((all_data['tagihan']))\n",
    "plt.tight_layout()\n",
    "plt.show()"
   ]
  },
  {
   "cell_type": "code",
   "execution_count": null,
   "metadata": {},
   "outputs": [],
   "source": [
    "corr_df = all_data.corr(method='pearson')\n",
    "plt.figure(figsize=(10,10))\n",
    "sns.heatmap(corr_df, cmap='RdYlGn_r', vmin=-1, vmax=1, linewidth=2.5)\n",
    "plt.show()"
   ]
  },
  {
   "cell_type": "code",
   "execution_count": null,
   "metadata": {},
   "outputs": [],
   "source": [
    "pd.crosstab(df_train['jumlah_kartu'],df_train['flag_kredit_macet'],normalize='index').plot.bar(stacked=True,rot=0)\n",
    "ax = plt.subplot(111)\n",
    "ax.legend(bbox_to_anchor=(1, 1))\n",
    "plt.show()"
   ]
  },
  {
   "cell_type": "code",
   "execution_count": null,
   "metadata": {},
   "outputs": [],
   "source": [
    "pd.crosstab(df_train['skor_delikuensi'],df_train['flag_kredit_macet'],normalize='index').plot.bar(stacked=True,rot=0)\n",
    "ax = plt.subplot(111)\n",
    "ax.legend(bbox_to_anchor=(1, 1))\n",
    "plt.show()"
   ]
  },
  {
   "cell_type": "code",
   "execution_count": null,
   "metadata": {},
   "outputs": [],
   "source": [
    "pd.crosstab(df_train['kode_cabang'],df_train['flag_kredit_macet'],normalize='index').plot.bar(stacked=True,rot=0)\n",
    "ax = plt.subplot(111)\n",
    "ax.legend(bbox_to_anchor=(1, 1))\n",
    "plt.show()"
   ]
  },
  {
   "cell_type": "markdown",
   "metadata": {},
   "source": [
    "# Preprocessing"
   ]
  },
  {
   "cell_type": "code",
   "execution_count": null,
   "metadata": {},
   "outputs": [],
   "source": [
    "all_data2 = all_data.copy()"
   ]
  },
  {
   "cell_type": "code",
   "execution_count": 9,
   "metadata": {},
   "outputs": [
    {
     "name": "stdout",
     "output_type": "stream",
     "text": [
      "There are 19 skewed numerical features to Box Cox transform\n"
     ]
    }
   ],
   "source": [
    "skewness = skewness[abs(skewness) > 0.75]\n",
    "print(\"There are {} skewed numerical features to Box Cox transform\".format(skewness.shape[0]))\n",
    "\n",
    "from scipy.special import boxcox1p\n",
    "skewed_features = skewness.index\n",
    "lam = 0.15\n",
    "for feat in skewed_features:\n",
    "#     all_data2[feat] += 1\n",
    "    all_data[feat] = np.cbrt(all_data[feat])\n",
    "    \n",
    "# all_data2[skewed_features] = np.log1p(all_data2[skewed_features])"
   ]
  },
  {
   "cell_type": "code",
   "execution_count": 11,
   "metadata": {},
   "outputs": [],
   "source": [
    "train = all_data[:r_train]\n",
    "test = all_data[r_train:]"
   ]
  },
  {
   "cell_type": "code",
   "execution_count": 12,
   "metadata": {},
   "outputs": [
    {
     "data": {
      "text/plain": [
       "jumlah_kartu                                2\n",
       "jumlah_tahun_sejak_pembukaan_kredit     2.284\n",
       "kode_cabang                                 A\n",
       "limit_kredit                          370.843\n",
       "outstanding                           200.699\n",
       "pemakaian_3bln_per_limit                0.244\n",
       "pemakaian_6bln_per_limit                0.205\n",
       "persentasi_overlimit                    0.000\n",
       "rasio_pembayaran                      -26.274\n",
       "rasio_pembayaran_3bulan               -11.702\n",
       "rasio_pembayaran_6bulan                 5.580\n",
       "sisa_tagihan_per_jumlah_kartu           0.000\n",
       "sisa_tagihan_per_limit                  0.000\n",
       "sisa_tagihan_tidak_terbayar             0.000\n",
       "skor_delikuensi                             0\n",
       "tagihan                               114.029\n",
       "total_pemakaian                        80.973\n",
       "total_pemakaian_per_limit               0.218\n",
       "total_pemakaian_retail                 80.973\n",
       "total_pemakaian_tunai                   0.000\n",
       "utilisasi_3bulan                        0.576\n",
       "utilisasi_6bulan                        0.730\n",
       "Name: 16926, dtype: object"
      ]
     },
     "execution_count": 12,
     "metadata": {},
     "output_type": "execute_result"
    }
   ],
   "source": [
    "# test.loc[test['rasio_pembayaran'].isnull()]\n",
    "all_data.iloc[16926,:]"
   ]
  },
  {
   "cell_type": "code",
   "execution_count": 13,
   "metadata": {},
   "outputs": [
    {
     "data": {
      "text/html": [
       "<div>\n",
       "<style scoped>\n",
       "    .dataframe tbody tr th:only-of-type {\n",
       "        vertical-align: middle;\n",
       "    }\n",
       "\n",
       "    .dataframe tbody tr th {\n",
       "        vertical-align: top;\n",
       "    }\n",
       "\n",
       "    .dataframe thead th {\n",
       "        text-align: right;\n",
       "    }\n",
       "</style>\n",
       "<table border=\"1\" class=\"dataframe\">\n",
       "  <thead>\n",
       "    <tr style=\"text-align: right;\">\n",
       "      <th></th>\n",
       "      <th>jumlah_kartu</th>\n",
       "      <th>jumlah_tahun_sejak_pembukaan_kredit</th>\n",
       "      <th>kode_cabang</th>\n",
       "      <th>limit_kredit</th>\n",
       "      <th>outstanding</th>\n",
       "      <th>pemakaian_3bln_per_limit</th>\n",
       "      <th>pemakaian_6bln_per_limit</th>\n",
       "      <th>persentasi_overlimit</th>\n",
       "      <th>rasio_pembayaran</th>\n",
       "      <th>rasio_pembayaran_3bulan</th>\n",
       "      <th>rasio_pembayaran_6bulan</th>\n",
       "      <th>sisa_tagihan_per_jumlah_kartu</th>\n",
       "      <th>sisa_tagihan_per_limit</th>\n",
       "      <th>sisa_tagihan_tidak_terbayar</th>\n",
       "      <th>skor_delikuensi</th>\n",
       "      <th>tagihan</th>\n",
       "      <th>total_pemakaian</th>\n",
       "      <th>total_pemakaian_per_limit</th>\n",
       "      <th>total_pemakaian_retail</th>\n",
       "      <th>total_pemakaian_tunai</th>\n",
       "      <th>utilisasi_3bulan</th>\n",
       "      <th>utilisasi_6bulan</th>\n",
       "    </tr>\n",
       "  </thead>\n",
       "  <tbody>\n",
       "    <tr>\n",
       "      <th>0</th>\n",
       "      <td>2</td>\n",
       "      <td>2.489</td>\n",
       "      <td>I</td>\n",
       "      <td>191.293</td>\n",
       "      <td>33.068</td>\n",
       "      <td>0.227</td>\n",
       "      <td>0.261</td>\n",
       "      <td>0.000</td>\n",
       "      <td>4.675</td>\n",
       "      <td>4.213</td>\n",
       "      <td>4.642</td>\n",
       "      <td>23.610</td>\n",
       "      <td>0.156</td>\n",
       "      <td>29.747</td>\n",
       "      <td>0</td>\n",
       "      <td>28.618</td>\n",
       "      <td>4.547</td>\n",
       "      <td>0.024</td>\n",
       "      <td>4.547</td>\n",
       "      <td>0.000</td>\n",
       "      <td>0.237</td>\n",
       "      <td>0.280</td>\n",
       "    </tr>\n",
       "    <tr>\n",
       "      <th>1</th>\n",
       "      <td>2</td>\n",
       "      <td>0.909</td>\n",
       "      <td>A</td>\n",
       "      <td>215.443</td>\n",
       "      <td>64.528</td>\n",
       "      <td>0.000</td>\n",
       "      <td>0.000</td>\n",
       "      <td>0.000</td>\n",
       "      <td>0.000</td>\n",
       "      <td>0.000</td>\n",
       "      <td>0.000</td>\n",
       "      <td>0.000</td>\n",
       "      <td>0.000</td>\n",
       "      <td>0.000</td>\n",
       "      <td>0</td>\n",
       "      <td>63.377</td>\n",
       "      <td>10.040</td>\n",
       "      <td>0.047</td>\n",
       "      <td>10.040</td>\n",
       "      <td>0.000</td>\n",
       "      <td>0.162</td>\n",
       "      <td>0.067</td>\n",
       "    </tr>\n",
       "    <tr>\n",
       "      <th>2</th>\n",
       "      <td>3</td>\n",
       "      <td>2.207</td>\n",
       "      <td>A</td>\n",
       "      <td>303.659</td>\n",
       "      <td>189.167</td>\n",
       "      <td>0.343</td>\n",
       "      <td>0.363</td>\n",
       "      <td>0.000</td>\n",
       "      <td>4.642</td>\n",
       "      <td>4.642</td>\n",
       "      <td>4.656</td>\n",
       "      <td>0.000</td>\n",
       "      <td>0.000</td>\n",
       "      <td>0.000</td>\n",
       "      <td>0</td>\n",
       "      <td>160.826</td>\n",
       "      <td>0.000</td>\n",
       "      <td>0.000</td>\n",
       "      <td>0.000</td>\n",
       "      <td>0.000</td>\n",
       "      <td>0.629</td>\n",
       "      <td>0.645</td>\n",
       "    </tr>\n",
       "    <tr>\n",
       "      <th>3</th>\n",
       "      <td>4</td>\n",
       "      <td>2.703</td>\n",
       "      <td>G</td>\n",
       "      <td>275.892</td>\n",
       "      <td>151.782</td>\n",
       "      <td>0.383</td>\n",
       "      <td>0.256</td>\n",
       "      <td>0.000</td>\n",
       "      <td>4.642</td>\n",
       "      <td>2.924</td>\n",
       "      <td>2.829</td>\n",
       "      <td>52.576</td>\n",
       "      <td>0.303</td>\n",
       "      <td>83.459</td>\n",
       "      <td>0</td>\n",
       "      <td>48.092</td>\n",
       "      <td>136.381</td>\n",
       "      <td>0.494</td>\n",
       "      <td>136.381</td>\n",
       "      <td>0.000</td>\n",
       "      <td>0.467</td>\n",
       "      <td>0.702</td>\n",
       "    </tr>\n",
       "    <tr>\n",
       "      <th>4</th>\n",
       "      <td>2</td>\n",
       "      <td>1.186</td>\n",
       "      <td>A</td>\n",
       "      <td>215.443</td>\n",
       "      <td>211.061</td>\n",
       "      <td>0.686</td>\n",
       "      <td>0.508</td>\n",
       "      <td>0.000</td>\n",
       "      <td>4.579</td>\n",
       "      <td>4.602</td>\n",
       "      <td>4.639</td>\n",
       "      <td>143.838</td>\n",
       "      <td>0.841</td>\n",
       "      <td>181.225</td>\n",
       "      <td>0</td>\n",
       "      <td>182.709</td>\n",
       "      <td>138.670</td>\n",
       "      <td>0.644</td>\n",
       "      <td>138.670</td>\n",
       "      <td>0.000</td>\n",
       "      <td>0.891</td>\n",
       "      <td>0.696</td>\n",
       "    </tr>\n",
       "  </tbody>\n",
       "</table>\n",
       "</div>"
      ],
      "text/plain": [
       "  jumlah_kartu  jumlah_tahun_sejak_pembukaan_kredit kode_cabang  limit_kredit  \\\n",
       "0            2                                2.489           I       191.293   \n",
       "1            2                                0.909           A       215.443   \n",
       "2            3                                2.207           A       303.659   \n",
       "3            4                                2.703           G       275.892   \n",
       "4            2                                1.186           A       215.443   \n",
       "\n",
       "   outstanding  pemakaian_3bln_per_limit  pemakaian_6bln_per_limit  \\\n",
       "0       33.068                     0.227                     0.261   \n",
       "1       64.528                     0.000                     0.000   \n",
       "2      189.167                     0.343                     0.363   \n",
       "3      151.782                     0.383                     0.256   \n",
       "4      211.061                     0.686                     0.508   \n",
       "\n",
       "   persentasi_overlimit  rasio_pembayaran  rasio_pembayaran_3bulan  \\\n",
       "0                 0.000             4.675                    4.213   \n",
       "1                 0.000             0.000                    0.000   \n",
       "2                 0.000             4.642                    4.642   \n",
       "3                 0.000             4.642                    2.924   \n",
       "4                 0.000             4.579                    4.602   \n",
       "\n",
       "   rasio_pembayaran_6bulan  sisa_tagihan_per_jumlah_kartu  \\\n",
       "0                    4.642                         23.610   \n",
       "1                    0.000                          0.000   \n",
       "2                    4.656                          0.000   \n",
       "3                    2.829                         52.576   \n",
       "4                    4.639                        143.838   \n",
       "\n",
       "   sisa_tagihan_per_limit  sisa_tagihan_tidak_terbayar skor_delikuensi  \\\n",
       "0                   0.156                       29.747               0   \n",
       "1                   0.000                        0.000               0   \n",
       "2                   0.000                        0.000               0   \n",
       "3                   0.303                       83.459               0   \n",
       "4                   0.841                      181.225               0   \n",
       "\n",
       "   tagihan  total_pemakaian  total_pemakaian_per_limit  \\\n",
       "0   28.618            4.547                      0.024   \n",
       "1   63.377           10.040                      0.047   \n",
       "2  160.826            0.000                      0.000   \n",
       "3   48.092          136.381                      0.494   \n",
       "4  182.709          138.670                      0.644   \n",
       "\n",
       "   total_pemakaian_retail  total_pemakaian_tunai  utilisasi_3bulan  \\\n",
       "0                   4.547                  0.000             0.237   \n",
       "1                  10.040                  0.000             0.162   \n",
       "2                   0.000                  0.000             0.629   \n",
       "3                 136.381                  0.000             0.467   \n",
       "4                 138.670                  0.000             0.891   \n",
       "\n",
       "   utilisasi_6bulan  \n",
       "0             0.280  \n",
       "1             0.067  \n",
       "2             0.645  \n",
       "3             0.702  \n",
       "4             0.696  "
      ]
     },
     "execution_count": 13,
     "metadata": {},
     "output_type": "execute_result"
    }
   ],
   "source": [
    "all_data.head()"
   ]
  },
  {
   "cell_type": "code",
   "execution_count": null,
   "metadata": {},
   "outputs": [],
   "source": [
    "plt.figure(figsize=(15,5))\n",
    "plt.subplot(1,3,1)\n",
    "sns.distplot((all_data['outstanding']))\n",
    "\n",
    "plt.subplot(1,3,2)\n",
    "sns.distplot((all_data['limit_kredit']))\n",
    "\n",
    "plt.subplot(1,3,3)\n",
    "sns.distplot((all_data['tagihan']))\n",
    "plt.show()"
   ]
  },
  {
   "cell_type": "code",
   "execution_count": null,
   "metadata": {},
   "outputs": [],
   "source": [
    "plt.figure(figsize=(15,5))\n",
    "plt.subplot(1,3,1)\n",
    "sns.distplot((all_data['total_pemakaian_retail']))\n",
    "\n",
    "plt.subplot(1,3,2)\n",
    "sns.distplot((all_data['sisa_tagihan_tidak_terbayar']))\n",
    "\n",
    "plt.subplot(1,3,3)\n",
    "sns.distplot((all_data['tagihan']))\n",
    "plt.show()"
   ]
  },
  {
   "cell_type": "code",
   "execution_count": 21,
   "metadata": {},
   "outputs": [
    {
     "name": "stdout",
     "output_type": "stream",
     "text": [
      "jumlah_kartu\n",
      "jumlah_tahun_sejak_pembukaan_kredit\n",
      "kode_cabang\n",
      "limit_kredit\n",
      "outstanding\n",
      "pemakaian_3bln_per_limit\n",
      "pemakaian_6bln_per_limit\n",
      "persentasi_overlimit\n",
      "rasio_pembayaran\n",
      "rasio_pembayaran_3bulan\n",
      "rasio_pembayaran_6bulan\n",
      "sisa_tagihan_per_jumlah_kartu\n",
      "sisa_tagihan_per_limit\n",
      "sisa_tagihan_tidak_terbayar\n",
      "skor_delikuensi\n",
      "tagihan\n",
      "total_pemakaian\n",
      "total_pemakaian_per_limit\n",
      "total_pemakaian_retail\n",
      "total_pemakaian_tunai\n",
      "utilisasi_3bulan\n",
      "utilisasi_6bulan\n"
     ]
    }
   ],
   "source": [
    "for i in all_data:\n",
    "    print(i)"
   ]
  },
  {
   "cell_type": "code",
   "execution_count": 32,
   "metadata": {},
   "outputs": [],
   "source": [
    "for i in all_data:\n",
    "    i['pembayaran'] = i['tagihan']*i['rasio_pembayaran']\n",
    "    i['pembayaran_3bulan'] = i['tagihan']*i['rasio_pembayaran_3bulan']\n",
    "    i['pembayaran_6bulan'] = i['tagihan']*i['rasio_pembayaran_6bulan']\n",
    "    i['pemakaian_3bln'] = i['limit_kredit']*i['pemakaian_3bln_per_limit']\n",
    "    i['pemakaian_6bln'] = i['limit_kredit']*i['pemakaian_6bln_per_limit']"
   ]
  },
  {
   "cell_type": "code",
   "execution_count": 33,
   "metadata": {},
   "outputs": [],
   "source": [
    "# df_train.columns\n",
    "col = ['outstanding', 'limit_kredit', 'tagihan', 'total_pemakaian_tunai', 'total_pemakaian_retail',\n",
    "     'sisa_tagihan_tidak_terbayar', 'total_pemakaian', 'sisa_tagihan_per_jumlah_kartu', 'pembayaran',\n",
    "     'pembayaran_3bulan', 'pembayaran_6bulan', 'pemakaian_3bln', 'pemakaian_6bln']"
   ]
  },
  {
   "cell_type": "code",
   "execution_count": 34,
   "metadata": {},
   "outputs": [],
   "source": [
    "for i in all_data:\n",
    "    for j in col:\n",
    "        i[j] = np.cbrt(i[j])"
   ]
  },
  {
   "cell_type": "code",
   "execution_count": null,
   "metadata": {},
   "outputs": [],
   "source": [
    "for i in all_data:\n",
    "    i = pd.get_dummies(i,drop_first=True)"
   ]
  },
  {
   "cell_type": "code",
   "execution_count": null,
   "metadata": {},
   "outputs": [],
   "source": [
    "df_train.head()"
   ]
  },
  {
   "cell_type": "markdown",
   "metadata": {},
   "source": [
    "## PCA"
   ]
  },
  {
   "cell_type": "code",
   "execution_count": null,
   "metadata": {},
   "outputs": [],
   "source": [
    "from sklearn.decomposition import PCA"
   ]
  },
  {
   "cell_type": "code",
   "execution_count": null,
   "metadata": {},
   "outputs": [],
   "source": [
    "pca = PCA()\n"
   ]
  },
  {
   "cell_type": "code",
   "execution_count": null,
   "metadata": {},
   "outputs": [],
   "source": [
    "df_1 = df_train[df_train['flag_kredit_macet']==1]\n",
    "df_2 = df_train[df_train['flag_kredit_macet']==0].sample(1359)\n",
    "df_train = pd.concat([df_1,df_2])"
   ]
  },
  {
   "cell_type": "code",
   "execution_count": null,
   "metadata": {},
   "outputs": [],
   "source": [
    "X = df_train.drop(['flag_kredit_macet'],axis=1)\n",
    "y = df_train['flag_kredit_macet']"
   ]
  },
  {
   "cell_type": "code",
   "execution_count": null,
   "metadata": {},
   "outputs": [],
   "source": [
    "rf = RandomForestClassifier(max_depth=3)\n",
    "rf.fit(X,y)"
   ]
  },
  {
   "cell_type": "code",
   "execution_count": null,
   "metadata": {},
   "outputs": [],
   "source": [
    "print(confusion_matrix(y,rf.predict(X)),'\\n')\n",
    "print(classification_report(y,rf.predict(X)))\n",
    "print(cross_val_score(rf,X,y).mean())"
   ]
  },
  {
   "cell_type": "code",
   "execution_count": null,
   "metadata": {},
   "outputs": [],
   "source": [
    "fpr, tpr, thresholds = roc_curve(y, rf.predict(X))"
   ]
  },
  {
   "cell_type": "code",
   "execution_count": null,
   "metadata": {},
   "outputs": [],
   "source": [
    "rf.score(X,y)"
   ]
  },
  {
   "cell_type": "code",
   "execution_count": null,
   "metadata": {},
   "outputs": [],
   "source": [
    "auc(fpr,tpr)"
   ]
  },
  {
   "cell_type": "code",
   "execution_count": null,
   "metadata": {},
   "outputs": [],
   "source": []
  }
 ],
 "metadata": {
  "kernelspec": {
   "display_name": "Python 3",
   "language": "python",
   "name": "python3"
  },
  "language_info": {
   "codemirror_mode": {
    "name": "ipython",
    "version": 3
   },
   "file_extension": ".py",
   "mimetype": "text/x-python",
   "name": "python",
   "nbconvert_exporter": "python",
   "pygments_lexer": "ipython3",
   "version": "3.6.4"
  }
 },
 "nbformat": 4,
 "nbformat_minor": 2
}
